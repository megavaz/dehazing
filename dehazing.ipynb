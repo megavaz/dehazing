{
 "cells": [
  {
   "cell_type": "markdown",
   "source": [
    "### Задача\n",
    "Формула для описания изображения с туманом на нём\n",
    "следующая:\n",
    "\n",
    "$ I(x) = J(x)t(x) + A(1 - t(x)) $ (1),\n",
    "\n",
    "где $I(x)$ - наблюдаемая интенсивность в пикселе $x$,\n",
    "$J(x)$ - излучение сцены,\n",
    "$A$ - глобальный атмосферный свет,\n",
    "$t(x)$ - количество света, которое достигает камеры.\n",
    "Задача убирания тумана с изображения состоит в том,\n",
    "чтоб вывести $J(x), A, t(x)$ из $I(x)$.\n",
    "### Метод\n",
    "Идея метода заключается в следующем наблюдении:\n",
    "на изображениях без тумана в большинстве патчей\n",
    "хотя бы один пиксель в одном из цветовых каналов\n",
    "должен иметь низкую интенсивность.\n",
    "Формально это записывается так:\n",
    "\n",
    "$ J ^ {dark}(x) = \\min_{c \\in \\{r, g, b\\}}\n",
    "(\\min_{y \\in \\Omega(x)}(J^{c}(y))) $ (2),\n",
    "\n",
    "где $J^{c}$ - цветовой канал, $\\Omega(x)$ - локальный\n",
    "патч, с центром в $х$.\n",
    "\n",
    "Хе в своей работе замечает,\n",
    "что за исключением неба,\n",
    "$ J ^ {dark} $ имеет близкие к нулевым значения в\n",
    "изображениях без тумана. Объясняется это\n",
    "тем фактом, что на изображениях много теней;\n",
    "цветных объектов, у которых один из каналов\n",
    "околонулевой (трава, вода);\n",
    "тёмных объектов, как стволы деревьев.\n",
    "\n",
    "Используя эту идею Хе выводит следующее уравнение:\n",
    "\n",
    "$ \\tilde{t}(x) = 1 - \\omega \\min_{c}(\\min_{y \\in \\Omega(x)}(\\frac{I^{c}(y)}{A^{c}}) $\n",
    " (3),\n",
    "\n",
    "Здесь $\\omega$ - это параметр сколько тумана надо убрать.\n",
    "Так как человек оценивает дистанцию в том числе по туману,\n",
    "если убрать его полностью, изображение может начать\n",
    "выглядеть неестественно, поэтому небольшая часть\n",
    "тумана оставляется.\n",
    "\n",
    "Используя уравнение (3) давайте получим $\\tilde{t}(x)$"
   ],
   "metadata": {
    "collapsed": false,
    "pycharm": {
     "name": "#%% md\n"
    }
   }
  },
  {
   "cell_type": "code",
   "execution_count": null,
   "outputs": [],
   "source": [
    "import matplotlib.pyplot as plt\n",
    "from tifffile import imshow\n",
    "import numpy as np\n",
    "from skimage import exposure"
   ],
   "metadata": {
    "collapsed": false,
    "pycharm": {
     "name": "#%%\n"
    }
   }
  },
  {
   "cell_type": "markdown",
   "source": [
    "Я добавил 4 изображения, на которых можно протестировать алгоритм.\n",
    "В ячейке ниже можно выбрать изображение от 1 до 4, чтоб протестировать на нём алгоритм."
   ],
   "metadata": {
    "collapsed": false,
    "pycharm": {
     "name": "#%% md\n"
    }
   }
  },
  {
   "cell_type": "code",
   "execution_count": null,
   "outputs": [],
   "source": [
    "im_num = 4\n",
    "\n",
    "image = plt.imread('data/{}.jpg'.format(im_num))\n",
    "image = image / 255.\n",
    "imshow(image)"
   ],
   "metadata": {
    "collapsed": false,
    "pycharm": {
     "name": "#%%\n"
    }
   }
  },
  {
   "cell_type": "markdown",
   "source": [
    "Ниже реализация подсчёта $J^{dark}$. Так как нам надо выбирать\n",
    "минимальное значение в окне,\n",
    "то для быстрого подсчёта оконных минимумов я заимплементировал\n",
    "Marcel van Herk’s fast algorithm для поиска оконных минимумов."
   ],
   "metadata": {
    "collapsed": false
   }
  },
  {
   "cell_type": "code",
   "execution_count": null,
   "outputs": [],
   "source": [
    "def dark_channel_prior_faster(img, patch_size=15):\n",
    "    dark_prior = np.min(img, axis=-1)\n",
    "    pad = patch_size // 2\n",
    "    forward = np.zeros(dark_prior.shape[:2])\n",
    "    backward = np.zeros(dark_prior.shape[:2])\n",
    "    step = patch_size - 1\n",
    "    forward[:, :step] = np.minimum.accumulate(dark_prior[:, :step], axis=1)\n",
    "    backward[:, step - 1:: -1] = np.minimum.accumulate(dark_prior[:, step - 1:: -1], axis=1)\n",
    "    for j in range(step, img.shape[1], step):\n",
    "        forward[:, j: j + step] = np.minimum.accumulate(dark_prior[:, j: j + step], axis=1)\n",
    "        backward[:, j + step - 1: j - 1: -1] = np.minimum.accumulate(dark_prior[:, j + step - 1: j - 1: -1], axis=1)\n",
    "    forward = np.pad(forward, (0, pad), 'constant', constant_values=1)[:-pad, pad:]\n",
    "    backward = np.pad(backward, (pad, 0), 'constant', constant_values=1)[pad:, :-pad]\n",
    "    dark_prior = np.minimum(forward, backward)\n",
    "\n",
    "    forward = np.zeros(dark_prior.shape[:2])\n",
    "    backward = np.zeros(dark_prior.shape[:2])\n",
    "    step = patch_size - 1\n",
    "    forward[:step] = np.minimum.accumulate(dark_prior[:step], axis=0)\n",
    "    backward[step - 1:: -1] = np.minimum.accumulate(dark_prior[step - 1:: -1], axis=0)\n",
    "    for j in range(step, img.shape[1], step):\n",
    "        forward[j: j + step] = np.minimum.accumulate(dark_prior[j: j + step], axis=0)\n",
    "        backward[j + step - 1: j - 1: -1] = np.minimum.accumulate(dark_prior[j + step - 1: j - 1: -1], axis=0)\n",
    "    forward = np.pad(forward, (0, pad), 'constant', constant_values=1)[pad:, :-pad]\n",
    "    backward = np.pad(backward, (pad, 0), 'constant', constant_values=1)[:-pad, pad:]\n",
    "    dark_prior = np.minimum(forward, backward)\n",
    "\n",
    "    return dark_prior"
   ],
   "metadata": {
    "collapsed": false,
    "pycharm": {
     "name": "#%%\n"
    }
   }
  },
  {
   "cell_type": "markdown",
   "source": [
    "Ниже реализация guided filter, она взята из https://github.com/swehrwein/python-guided-filter\n",
    "и слегка модифицирована."
   ],
   "metadata": {
    "collapsed": false
   }
  },
  {
   "cell_type": "code",
   "execution_count": null,
   "outputs": [],
   "source": [
    "# Реализация guided filter основана на https://github.com/swehrwein/python-guided-filter\n",
    "def window(img, r):\n",
    "    (rows, cols) = img.shape[:2]\n",
    "    im_dst = np.zeros(img.shape)\n",
    "\n",
    "    tile = [1] * img.ndim\n",
    "    tile[0] = r\n",
    "    im_cum = np.cumsum(img, 0)\n",
    "    im_dst[0:r+1, :, ...] = im_cum[r:2*r+1, :, ...]\n",
    "    im_dst[r+1:rows-r, :, ...] = im_cum[2*r+1:rows, :, ...] - im_cum[0:rows-2*r-1, :, ...]\n",
    "    im_dst[rows-r:rows, :, ...] = np.tile(im_cum[rows-1:rows, :, ...], tile) - im_cum[rows-2*r-1:rows-r-1, :, ...]\n",
    "\n",
    "    tile = [1] * img.ndim\n",
    "    tile[1] = r\n",
    "    im_cum = np.cumsum(im_dst, 1)\n",
    "    im_dst[:, 0:r+1, ...] = im_cum[:, r:2*r+1, ...]\n",
    "    im_dst[:, r+1:cols-r, ...] = im_cum[:, 2*r+1 : cols, ...] - im_cum[:, 0 : cols-2*r-1, ...]\n",
    "    im_dst[:, cols-r: cols, ...] = np.tile(im_cum[:, cols-1:cols, ...], tile) - im_cum[:, cols-2*r-1 : cols-r-1, ...]\n",
    "    return im_dst\n",
    "\n",
    "\n",
    "def guided_filter(I, p, r, eps):\n",
    "    N = window(np.ones(I.shape), r)\n",
    "    mean_I = window(I, r) / N\n",
    "    mean_p = window(p, r) / N\n",
    "    var_I = window(I ** 2, r) / N - mean_I ** 2\n",
    "    a = (window(I * p, r) / N - mean_I * mean_p) / (var_I + eps)\n",
    "    b = mean_p - a * mean_I\n",
    "\n",
    "    mean_a = window(a, r) / N\n",
    "    mean_b = window(b, r) / N\n",
    "\n",
    "    q = mean_a * I + mean_b\n",
    "    return q"
   ],
   "metadata": {
    "collapsed": false,
    "pycharm": {
     "name": "#%%\n"
    }
   }
  },
  {
   "cell_type": "markdown",
   "source": [
    "Для оценки $A$ используются пиксели из наиболее затуманенной\n",
    "части изображения. Идея в том, что в dark channel\n",
    "наиболее туманные пиксели будут иметь наибольшие значения,\n",
    "соответственно чтоб оценить $A$ выбираются топ 0.01%\n",
    "наиболее интенсивных пикселей в dark channel,\n",
    "и среди них уже выбираются пиксели с наибольшей интенсивностью\n",
    "в оригинальном изображении.\n",
    "\n",
    "Переменная image_normed - это $\\frac{I^{c}(y)}{A^{c}}$ в уравнении (3)"
   ],
   "metadata": {
    "collapsed": false
   }
  },
  {
   "cell_type": "code",
   "execution_count": null,
   "outputs": [],
   "source": [
    "# найдём dark channel\n",
    "dark_prior = dark_channel_prior_faster(image, 15)"
   ],
   "metadata": {
    "collapsed": false,
    "pycharm": {
     "name": "#%%\n"
    }
   }
  },
  {
   "cell_type": "code",
   "execution_count": null,
   "outputs": [],
   "source": [
    "# выберем топ 0.01% самых интенсивных пикселей в dark channel\n",
    "\n",
    "mask = dark_prior > (np.quantile(dark_prior, q=0.999) - 0.001)\n",
    "norm_factor = np.zeros(image.shape[-1])\n",
    "image_normed = np.zeros(image.shape)\n",
    "\n",
    "# Найдём наиболее интенсивные пиксели среди выбранных в dark channel\n",
    "# и отнормируем на них\n",
    "\n",
    "for i in range(image.shape[-1]):\n",
    "    norm_factor[i] = np.max(image[..., i][mask])\n",
    "    image_normed[..., i] = image[..., i] / norm_factor[i]"
   ],
   "metadata": {
    "collapsed": false,
    "pycharm": {
     "name": "#%%\n"
    }
   }
  },
  {
   "cell_type": "markdown",
   "source": [
    "Теперь, вычислив член $\\frac{I^{c}(y)}{A^{c}}$,\n",
    "найдём $\\tilde{t}$ из уравнения (3)."
   ],
   "metadata": {
    "collapsed": false,
    "pycharm": {
     "name": "#%% md\n"
    }
   }
  },
  {
   "cell_type": "code",
   "execution_count": null,
   "outputs": [],
   "source": [
    "w = 0.95\n",
    "t_wave = 1 - w * dark_channel_prior_faster(image_normed, 15)\n",
    "\n",
    "imshow(t_wave, cmap='Greys')\n",
    "plt.imsave('data/{}_t_wave.jpg'.format(im_num), t_wave, cmap='Greys')"
   ],
   "metadata": {
    "collapsed": false,
    "pycharm": {
     "name": "#%%\n"
    }
   }
  },
  {
   "cell_type": "markdown",
   "source": [
    "Как видно на изображении выше, проблема $\\tilde{t}$\n",
    "в возникновении block effects на нём. Чтоб решить эту\n",
    "проблему применяется guided filter.\n",
    "\n",
    "После применения фильтра сразу вычисляется\n",
    "$ \\max(t(x), t_{0}) $, где\n",
    "$t_{0}$ - минимальное количество тумана,\n",
    "которое мы хотим сохранить.\n"
   ],
   "metadata": {
    "collapsed": false,
    "pycharm": {
     "name": "#%% md\n"
    }
   }
  },
  {
   "cell_type": "code",
   "execution_count": null,
   "outputs": [],
   "source": [
    "# Получим одноканальное изображение, испольльзуем\n",
    "# его в качестве guide в фильтре\n",
    "image_normed_guidance = np.mean(image, -1)\n",
    "# imshow(image_normed_guidance)"
   ],
   "metadata": {
    "collapsed": false,
    "pycharm": {
     "name": "#%%\n"
    }
   }
  },
  {
   "cell_type": "code",
   "execution_count": null,
   "outputs": [],
   "source": [
    "t_0 = 0.1\n",
    "\n",
    "# Найдём t\n",
    "t = guided_filter(image_normed_guidance, t_wave, 150, 10**-2)\n",
    "# Найдём max(t, t_0)\n",
    "mask = t < t_0\n",
    "t[mask] = t_0\n",
    "\n",
    "imshow(t, cmap='Greys')\n",
    "plt.imsave('data/{}_t.jpg'.format(im_num), t, cmap='Greys')\n",
    "t = np.expand_dims(t, -1)"
   ],
   "metadata": {
    "collapsed": false,
    "pycharm": {
     "name": "#%%\n"
    }
   }
  },
  {
   "cell_type": "markdown",
   "source": [
    "Нам известны $A$, $\\max(t(x), t_{0})$ и $I(x)$,\n",
    "остаётся найти $J(x)$. Из формулы (1) легко вывести\n",
    "\n",
    "$ J(x) = \\frac{I(x) - A}{\\max(t(x), t_{0})} + A$.\n",
    "\n",
    "Используя эту формулу получим финальный результат.\n",
    "Из-за того, что излучение сцены обычно\n",
    "не столь яркое, как атмосферный свет,\n",
    "финальное изображение обычно оказывается\n",
    "затемнённым, поэтому перед показом подправляется\n",
    "экспозиция."
   ],
   "metadata": {
    "collapsed": false,
    "pycharm": {
     "name": "#%% md\n"
    }
   }
  },
  {
   "cell_type": "code",
   "execution_count": null,
   "outputs": [],
   "source": [
    "refined_image = (image - norm_factor) / t + norm_factor\n",
    "# imshow(refined_image)"
   ],
   "metadata": {
    "collapsed": false,
    "pycharm": {
     "name": "#%%\n"
    }
   }
  },
  {
   "cell_type": "code",
   "execution_count": null,
   "outputs": [],
   "source": [
    "cutoff = {1: 0.5, 2: 0.4, 3: 0.25, 4: 0.35}\n",
    "\n",
    "refined_image2 = exposure.rescale_intensity(refined_image, out_range=(0,1))\n",
    "refined_image2 = exposure.adjust_sigmoid(refined_image2, cutoff=cutoff[im_num], gain=10)\n",
    "imshow(refined_image2)\n",
    "imshow(image)\n",
    "plt.imsave('data/{}_refined.jpg'.format(im_num), refined_image2)"
   ],
   "metadata": {
    "collapsed": false,
    "pycharm": {
     "name": "#%%\n"
    }
   }
  }
 ],
 "metadata": {
  "kernelspec": {
   "name": "visillect",
   "language": "python",
   "display_name": "VISI"
  },
  "language_info": {
   "codemirror_mode": {
    "name": "ipython",
    "version": 2
   },
   "file_extension": ".py",
   "mimetype": "text/x-python",
   "name": "python",
   "nbconvert_exporter": "python",
   "pygments_lexer": "ipython2",
   "version": "2.7.6"
  },
  "pycharm": {
   "stem_cell": {
    "cell_type": "raw",
    "source": [
     "\n"
    ],
    "metadata": {
     "collapsed": false
    }
   }
  }
 },
 "nbformat": 4,
 "nbformat_minor": 0
}