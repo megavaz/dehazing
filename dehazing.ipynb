{
 "cells": [
  {
   "cell_type": "code",
   "execution_count": null,
   "metadata": {
    "collapsed": true
   },
   "outputs": [],
   "source": [
    "import matplotlib.pyplot as plt\n",
    "from tifffile import imshow\n",
    "import numpy as np\n",
    "from tqdm import tqdm"
   ]
  },
  {
   "cell_type": "code",
   "execution_count": null,
   "outputs": [],
   "source": [
    "from functools import wraps\n",
    "from time import time\n",
    "def measure(func):\n",
    "    @wraps(func)\n",
    "    def _time_it(*args, **kwargs):\n",
    "        start = int(round(time() * 1000))\n",
    "        try:\n",
    "            return func(*args, **kwargs)\n",
    "        finally:\n",
    "            end_ = int(round(time() * 1000)) - start\n",
    "            print(f\"Total execution time: {end_ if end_ > 0 else 0} ms\")\n",
    "    return _time_it"
   ],
   "metadata": {
    "collapsed": false,
    "pycharm": {
     "name": "#%%\n"
    }
   }
  },
  {
   "cell_type": "code",
   "execution_count": null,
   "outputs": [],
   "source": [
    "im_num = 9\n",
    "image = plt.imread('data/{}.jpg'.format(im_num))\n",
    "image = image / 255."
   ],
   "metadata": {
    "collapsed": false,
    "pycharm": {
     "name": "#%%\n"
    }
   }
  },
  {
   "cell_type": "code",
   "execution_count": null,
   "outputs": [],
   "source": [
    "imshow(image)\n",
    "image.min()"
   ],
   "metadata": {
    "collapsed": false,
    "pycharm": {
     "name": "#%%\n"
    }
   }
  },
  {
   "cell_type": "code",
   "execution_count": null,
   "outputs": [],
   "source": [
    "@measure\n",
    "def dark_channel_prior(img, patch_size=15):\n",
    "    dark_prior = np.zeros(img.shape[0:2])\n",
    "    pad = patch_size // 2\n",
    "    # img = skimage.util.pad(img, (pad, pad), mode='edge')\n",
    "    for i in tqdm(range(dark_prior.shape[0])):\n",
    "        for j in range(dark_prior.shape[1]):\n",
    "            # print(img[max(i - pad, 0): min(i + pad, img.shape[0]), max(j - pad, 0): min(j + pad, img.shape[1])].shape)\n",
    "            dark_prior[i, j] = np.min(img[max(i - pad, 0): min(i + pad, img.shape[0]), max(j - pad, 0): min(j + pad, img.shape[1])])\n",
    "    return dark_prior"
   ],
   "metadata": {
    "collapsed": false,
    "pycharm": {
     "name": "#%%\n"
    }
   }
  },
  {
   "cell_type": "code",
   "execution_count": null,
   "outputs": [],
   "source": [
    "@measure\n",
    "def dark_channel_prior_fast(img, patch_size=15):\n",
    "    dark_prior = np.zeros(img.shape[0:2])\n",
    "    img = np.min(img, axis=-1)\n",
    "    pad = patch_size // 2\n",
    "    forward = np.zeros(img.shape[1])\n",
    "    backward = np.zeros(img.shape[1])\n",
    "    step = patch_size - 1\n",
    "    for i in range(img.shape[0]):\n",
    "        for j in range(0, img.shape[1], step):\n",
    "            cur_min = 1.\n",
    "            for k in range(step):\n",
    "                if j + k >= img.shape[1]:\n",
    "                    break\n",
    "                new_min = img[i, j + k]\n",
    "                if new_min < cur_min:\n",
    "                    cur_min = new_min\n",
    "                forward[j + k] = cur_min\n",
    "            cur_min = 1.\n",
    "            for k in range(step - 1, -1, -1):\n",
    "                if j + k >= img.shape[1]:\n",
    "                    continue\n",
    "                new_min = img[i, j + k]\n",
    "                if new_min < cur_min:\n",
    "                    cur_min = new_min\n",
    "                backward[j + k] = cur_min\n",
    "        for j in range(img.shape[1]):\n",
    "            dark_prior[i, j] = min(forward[min(j + pad, img.shape[1] - 1)], backward[max(j - pad, 0)])\n",
    "\n",
    "    forward = np.zeros(img.shape[0])\n",
    "    backward = np.zeros(img.shape[0])\n",
    "    for j in range(img.shape[1]):\n",
    "        for i in range(0, img.shape[0], step):\n",
    "            cur_min = 1.\n",
    "            for k in range(step):\n",
    "                if i + k >= img.shape[0]:\n",
    "                    break\n",
    "                new_min = dark_prior[i + k, j]\n",
    "                if new_min < cur_min:\n",
    "                    cur_min = new_min\n",
    "                forward[i + k] = cur_min\n",
    "            cur_min = 1.\n",
    "            # print('a')\n",
    "            for k in range(step - 1, -1, -1):\n",
    "                if i + k >= img.shape[0]:\n",
    "                    # print(j + k)\n",
    "                    continue\n",
    "                # print('a')\n",
    "                new_min = dark_prior[i + k, j]\n",
    "                if new_min < cur_min:\n",
    "                    cur_min = new_min\n",
    "                backward[i + k] = cur_min\n",
    "\n",
    "        for i in range(img.shape[0]):\n",
    "            dark_prior[i, j] = min(forward[min(i + pad, img.shape[0] - 1)], backward[max(i - pad, 0)])\n",
    "    return dark_prior"
   ],
   "metadata": {
    "collapsed": false,
    "pycharm": {
     "name": "#%%\n"
    }
   }
  },
  {
   "cell_type": "code",
   "execution_count": null,
   "outputs": [],
   "source": [
    "@measure\n",
    "def dark_channel_prior_faster(img, patch_size=15):\n",
    "    dark_prior = np.min(img, axis=-1)\n",
    "    pad = patch_size // 2\n",
    "    forward = np.zeros(dark_prior.shape[:2])\n",
    "    backward = np.zeros(dark_prior.shape[:2])\n",
    "    step = patch_size - 1\n",
    "    forward[:, :step] = np.minimum.accumulate(dark_prior[:, :step], axis=1)\n",
    "    backward[:, step - 1:: -1] = np.minimum.accumulate(dark_prior[:, step - 1:: -1], axis=1)\n",
    "    for j in range(step, img.shape[1], step):\n",
    "        forward[:, j: j + step] = np.minimum.accumulate(dark_prior[:, j: j + step], axis=1)\n",
    "        backward[:, j + step - 1: j - 1: -1] = np.minimum.accumulate(dark_prior[:, j + step - 1: j - 1: -1], axis=1)\n",
    "    forward = np.pad(forward, (0, pad), 'constant', constant_values=1)[:-pad, pad:]\n",
    "    backward = np.pad(backward, (pad, 0), 'constant', constant_values=1)[pad:, :-pad]\n",
    "    dark_prior = np.minimum(forward, backward)\n",
    "\n",
    "    forward = np.zeros(dark_prior.shape[:2])\n",
    "    backward = np.zeros(dark_prior.shape[:2])\n",
    "    step = patch_size - 1\n",
    "    forward[:step] = np.minimum.accumulate(dark_prior[:step], axis=0)\n",
    "    backward[step - 1:: -1] = np.minimum.accumulate(dark_prior[step - 1:: -1], axis=0)\n",
    "    for j in range(step, img.shape[1], step):\n",
    "        forward[j: j + step] = np.minimum.accumulate(dark_prior[j: j + step], axis=0)\n",
    "        backward[j + step - 1: j - 1: -1] = np.minimum.accumulate(dark_prior[j + step - 1: j - 1: -1], axis=0)\n",
    "    forward = np.pad(forward, (0, pad), 'constant', constant_values=1)[pad:, :-pad]\n",
    "    backward = np.pad(backward, (pad, 0), 'constant', constant_values=1)[:-pad, pad:]\n",
    "    dark_prior = np.minimum(forward, backward)\n",
    "\n",
    "    return dark_prior"
   ],
   "metadata": {
    "collapsed": false,
    "pycharm": {
     "name": "#%%\n"
    }
   }
  },
  {
   "cell_type": "code",
   "execution_count": null,
   "outputs": [],
   "source": [
    "# Реализация guided filter основана на https://github.com/swehrwein/python-guided-filter\n",
    "def window(img, r):\n",
    "    (rows, cols) = img.shape[:2]\n",
    "    im_dst = np.zeros(img.shape)\n",
    "\n",
    "    tile = [1] * img.ndim\n",
    "    tile[0] = r\n",
    "    im_cum = np.cumsum(img, 0)\n",
    "    im_dst[0:r+1, :, ...] = im_cum[r:2*r+1, :, ...]\n",
    "    im_dst[r+1:rows-r, :, ...] = im_cum[2*r+1:rows, :, ...] - im_cum[0:rows-2*r-1, :, ...]\n",
    "    im_dst[rows-r:rows, :, ...] = np.tile(im_cum[rows-1:rows, :, ...], tile) - im_cum[rows-2*r-1:rows-r-1, :, ...]\n",
    "\n",
    "    tile = [1] * img.ndim\n",
    "    tile[1] = r\n",
    "    im_cum = np.cumsum(im_dst, 1)\n",
    "    im_dst[:, 0:r+1, ...] = im_cum[:, r:2*r+1, ...]\n",
    "    im_dst[:, r+1:cols-r, ...] = im_cum[:, 2*r+1 : cols, ...] - im_cum[:, 0 : cols-2*r-1, ...]\n",
    "    im_dst[:, cols-r: cols, ...] = np.tile(im_cum[:, cols-1:cols, ...], tile) - im_cum[:, cols-2*r-1 : cols-r-1, ...]\n",
    "\n",
    "    return im_dst\n",
    "\n",
    "# def window2(img, r):\n",
    "#     img = np.pad(img, (int((r - 1) / 2), 0), mode='edge')\n",
    "#     img = np.pad(img, (0, int((r - 1) / 2)), mode='constant', constant_values=0)\n",
    "#     img = np.add.accumulate(img, axis=1)\n",
    "#     img = img - np.pad(img, ((0, 0), (r, 0)))[:, :-r]\n",
    "#     img[:,-2 * (r - 1) :-r + 1]  -= img[:,:-r:-1]\n",
    "#     img = np.add.accumulate(img, axis=0)\n",
    "#     img = img - np.pad(img, ((r, 0), (0, 0)))[:-r, :]\n",
    "#     img[-2 * (r - 1) :-r + 1]  -= img[:-r:-1]\n",
    "#     return img[r-1:-r + 1, r-1:-r + 1]\n",
    "\n",
    "\n",
    "def guided_filter(I, p, r, eps):\n",
    "    N = window(np.ones(I.shape), r)\n",
    "    mean_I = window(I, r) / N\n",
    "    mean_p = window(p, r) / N\n",
    "    var_I = window(I ** 2, r) / N - mean_I ** 2\n",
    "    a = (window(I * p, r) / N - mean_I * mean_p) / (var_I + eps)\n",
    "    b = mean_p - a * mean_I\n",
    "\n",
    "    mean_a = window(a, r) / N\n",
    "    mean_b = window(b, r) / N\n",
    "\n",
    "    q = mean_a * I + mean_b\n",
    "    return q"
   ],
   "metadata": {
    "collapsed": false,
    "pycharm": {
     "name": "#%%\n"
    }
   }
  },
  {
   "cell_type": "code",
   "execution_count": null,
   "outputs": [],
   "source": [
    "dark_prior = dark_channel_prior_faster(image, 15)"
   ],
   "metadata": {
    "collapsed": false,
    "pycharm": {
     "name": "#%%\n"
    }
   }
  },
  {
   "cell_type": "code",
   "execution_count": null,
   "outputs": [],
   "source": [
    "mask = dark_prior > (np.quantile(dark_prior, q=0.999) - 0.001)\n",
    "norm_factor = np.zeros(image.shape[-1])\n",
    "image_normed = np.zeros(image.shape)\n",
    "for i in range(image.shape[-1]):\n",
    "    norm_factor[i] = np.max(image[..., i][mask])\n",
    "    image_normed[..., i] = image[..., i] / norm_factor[i]"
   ],
   "metadata": {
    "collapsed": false,
    "pycharm": {
     "name": "#%%\n"
    }
   }
  },
  {
   "cell_type": "code",
   "execution_count": null,
   "outputs": [],
   "source": [
    "t_0 = 0.1\n",
    "w = 0.95\n",
    "t_wave = 1 - w * dark_channel_prior_faster(image_normed, 15)\n",
    "mask = t_wave < t_0\n",
    "t_wave[mask] = t_0\n",
    "# t_wave = np.expand_dims(t_wave, -1)\n",
    "\n",
    "imshow(t_wave, cmap='Greys')\n",
    "plt.imsave('data/{}_t_wave.jpg'.format(im_num), t_wave, cmap='Greys')"
   ],
   "metadata": {
    "collapsed": false,
    "pycharm": {
     "name": "#%%\n"
    }
   }
  },
  {
   "cell_type": "code",
   "execution_count": null,
   "outputs": [],
   "source": [
    "image_normed_guidance = np.mean(image, -1)\n",
    "# imshow(image_normed_guidance)"
   ],
   "metadata": {
    "collapsed": false,
    "pycharm": {
     "name": "#%%\n"
    }
   }
  },
  {
   "cell_type": "code",
   "execution_count": null,
   "outputs": [],
   "source": [
    "t = guided_filter(image_normed_guidance, t_wave, 150, 10**-2)\n",
    "imshow(t, cmap='Greys')\n",
    "plt.imsave('data/{}_t.jpg'.format(im_num), t, cmap='Greys')\n",
    "t = np.expand_dims(t, -1)"
   ],
   "metadata": {
    "collapsed": false,
    "pycharm": {
     "name": "#%%\n"
    }
   }
  },
  {
   "cell_type": "code",
   "execution_count": null,
   "outputs": [],
   "source": [
    "# beta = 0.4\n",
    "# data = np.log(t) / -beta\n",
    "# imshow(data)"
   ],
   "metadata": {
    "collapsed": false,
    "pycharm": {
     "name": "#%%\n"
    }
   }
  },
  {
   "cell_type": "code",
   "execution_count": null,
   "outputs": [],
   "source": [
    "from sklearn.preprocessing import minmax_scale\n",
    "refined_image = (image - norm_factor) / t + norm_factor\n",
    "# for i in range(refined_image.shape[-1]):\n",
    "#     refined_image[..., i] = (refined_image[..., i] - refined_image[..., i].min()) / (refined_image[..., i].max())\n",
    "imshow(refined_image)"
   ],
   "metadata": {
    "collapsed": false,
    "pycharm": {
     "name": "#%%\n"
    }
   }
  },
  {
   "cell_type": "code",
   "execution_count": null,
   "outputs": [],
   "source": [
    "from skimage import exposure\n",
    "refined_image2 = exposure.rescale_intensity(refined_image, out_range=(0,1))\n",
    "# refined_image2 = exposure.adjust_gamma(refined_image2, 0.5)\n",
    "refined_image2 = exposure.adjust_sigmoid(refined_image2, 0.4, 10)\n",
    "# refined_image2 = exposure.equalize_adapthist(refined_image2)\n",
    "imshow(refined_image2)\n",
    "imshow(image)\n",
    "plt.imsave('data/{}_refined.jpg'.format(im_num), refined_image2)"
   ],
   "metadata": {
    "collapsed": false,
    "pycharm": {
     "name": "#%%\n"
    }
   }
  },
  {
   "cell_type": "code",
   "execution_count": null,
   "outputs": [],
   "source": [
    "# refined_image2.min()"
   ],
   "metadata": {
    "collapsed": false,
    "pycharm": {
     "name": "#%%\n"
    }
   }
  },
  {
   "cell_type": "code",
   "execution_count": null,
   "outputs": [],
   "source": [],
   "metadata": {
    "collapsed": false,
    "pycharm": {
     "name": "#%%\n"
    }
   }
  }
 ],
 "metadata": {
  "kernelspec": {
   "name": "visillect",
   "language": "python",
   "display_name": "VISI"
  },
  "language_info": {
   "codemirror_mode": {
    "name": "ipython",
    "version": 2
   },
   "file_extension": ".py",
   "mimetype": "text/x-python",
   "name": "python",
   "nbconvert_exporter": "python",
   "pygments_lexer": "ipython2",
   "version": "2.7.6"
  }
 },
 "nbformat": 4,
 "nbformat_minor": 0
}